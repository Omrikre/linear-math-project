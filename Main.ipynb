{
 "cells": [
  {
   "cell_type": "code",
   "execution_count": 7,
   "metadata": {
    "collapsed": true
   },
   "outputs": [],
   "source": [
    "# Imports and stuff\n",
    "import numpy as np\n",
    "import matplotlib.pyplot as plt\n",
    "import networkx as nx\n",
    "import math\n",
    "import random\n",
    "from random import randrange\n",
    "import time\n",
    "import csv as csv\n",
    "import statistics\n",
    "import pandas\n",
    "from pandas import DataFrame"
   ]
  },
  {
   "cell_type": "code",
   "execution_count": 8,
   "metadata": {
    "collapsed": false
   },
   "outputs": [],
   "source": [
    "# Printing and ploting\n",
    "def plot_graph(adj_matrix):\n",
    "    # Create a graph object\n",
    "    G = nx.from_numpy_array(adj_matrix)\n",
    "    # Plot the graph\n",
    "    pos = nx.spring_layout(G)\n",
    "    nx.draw(G, pos, with_labels=True)\n",
    "    labels = nx.get_edge_attributes(G, 'weight')\n",
    "    nx.draw_networkx_edge_labels(G, pos, edge_labels=labels)\n",
    "    plt.show()\n",
    "\n",
    "\n",
    "def create_csv_sum_file():\n",
    "    filename = \"sum.csv\"\n",
    "    with open(filename, 'w', newline='') as csvfile:\n",
    "        fieldnames = ['Date', 'Graph Type', 'Graph Size', 'Start Node', 'Times To Run', 'Average Steps',\n",
    "                      'Max Steps', 'Min Steps', 'Standard Deviation']\n",
    "        writer = csv.DictWriter(csvfile, fieldnames=fieldnames)\n",
    "        writer.writeheader()\n",
    "\n",
    "create_csv_sum_file()\n",
    "\n",
    "\n",
    "def write_to_sum_file(graph_type, graph_size, start_node, times_to_run, average_steps, max_steps, min_steps, standard_deviation):\n",
    "    filename = \"sum.csv\"\n",
    "    with open(filename, 'a', newline='') as csvfile:\n",
    "        fieldnames = ['Date', 'Graph Type', 'Graph Size', 'Start Node', 'Times To Run', 'Average Steps',\n",
    "                      'Max Steps', 'Min Steps', 'Standard Deviation']\n",
    "        writer = csv.DictWriter(csvfile, fieldnames=fieldnames)\n",
    "        timestr = time.strftime(\"%Y%m%d-%H%M%S\")\n",
    "        writer.writerow({'Date': timestr, 'Graph Type': graph_type, 'Graph Size': graph_size, 'Start Node': start_node,\n",
    "                     'Times To Run': times_to_run, 'Average Steps': average_steps, 'Max Steps': max_steps,\n",
    "                     'Min Steps': min_steps, 'Standard Deviation':standard_deviation})\n"
   ]
  },
  {
   "cell_type": "code",
   "execution_count": 9,
   "metadata": {
    "collapsed": false
   },
   "outputs": [],
   "source": [
    "# Graph creators\n",
    "def createAClique(sizeOfGraph):\n",
    "    return np.full((sizeOfGraph, sizeOfGraph), 1)\n",
    "\n",
    "\n",
    "def createARing(sizeOfGraph):\n",
    "    graph = np.full((sizeOfGraph, sizeOfGraph), 0)\n",
    "    for i in range(sizeOfGraph):\n",
    "        for j in range (sizeOfGraph):\n",
    "            if i==j:\n",
    "                graph[i][j] = 1\n",
    "            elif i==(j+1)%sizeOfGraph:\n",
    "                graph[i][j] = 1\n",
    "                graph[j][i] = 1\n",
    "    return graph\n",
    "\n",
    "\n",
    "def createACandy(sizeOfGraph):\n",
    "    graph = np.full((sizeOfGraph, sizeOfGraph), 0)\n",
    "    for i in range (sizeOfGraph):\n",
    "        for j in range (sizeOfGraph):\n",
    "            if i<=sizeOfGraph/2 and j<=sizeOfGraph/2:\n",
    "                if i==j:\n",
    "                    graph[i][j] = 1\n",
    "                if i==j+1:\n",
    "                    graph[i][j] = 1\n",
    "                    graph[j][i] = 1\n",
    "            if i>=sizeOfGraph/2 and j>=sizeOfGraph/2:\n",
    "                graph[i][j] = 1\n",
    "    return graph\n",
    "\n",
    "\n",
    "def createTwoCliques(sizeOfGraph):\n",
    "    graph = np.full((sizeOfGraph, sizeOfGraph), 0)\n",
    "    for i in range(sizeOfGraph):\n",
    "        for j in range(sizeOfGraph):\n",
    "            #e1\n",
    "            if i < sizeOfGraph / 2 and j < sizeOfGraph / 2:\n",
    "                if i == j:\n",
    "                    graph[i][j] = 1\n",
    "                if i == j + 1:\n",
    "                    graph[i][j] = 1\n",
    "                    graph[j][i] = 1\n",
    "            #e2\n",
    "            if i > (sizeOfGraph / 2) - 1 and j > (sizeOfGraph / 2) - 1 and i<(3*sizeOfGraph)/4 and j<(3*sizeOfGraph)/4:\n",
    "                graph[i][j] = 1\n",
    "            #e3\n",
    "            if i > (3*sizeOfGraph)/4 - 1 and j > (3*sizeOfGraph) / 4 -1:\n",
    "                graph[i][j] = 1\n",
    "            #e4\n",
    "            graph[0][int(sizeOfGraph/2)] = 1\n",
    "            graph[int(sizeOfGraph/2)][0] = 1\n",
    "            graph[int((sizeOfGraph/2))-1][int(3*sizeOfGraph/4)] = 1\n",
    "            graph[int(3*sizeOfGraph/4)][int((sizeOfGraph/2))-1] = 1\n",
    "    return graph\n"
   ]
  },
  {
   "cell_type": "code",
   "execution_count": 10,
   "metadata": {
    "collapsed": false
   },
   "outputs": [],
   "source": [
    "# Functions for Question 1\n",
    "def normalize_graph(arr):\n",
    "    row_sums = np.sum(arr, axis=1, keepdims=True)\n",
    "    normalized_arr = arr / row_sums\n",
    "    return normalized_arr\n",
    "\n",
    "\n",
    "def random_walk_time(adj_matrix, start_node):\n",
    "    \"\"\"\n",
    "    Function that implements a random walk on a normalized adjacency matrix and returns the total running time and number of steps taken\n",
    "    :param adj_matrix: Normalized adjacency matrix of the graph\n",
    "    :param start_node: Starting node for the random walk\n",
    "    :return: Total running time and number of steps taken during the random walk\n",
    "    \"\"\"\n",
    "    num_nodes = adj_matrix.shape[0]\n",
    "    current_node = start_node\n",
    "    visited_nodes = set([current_node])\n",
    "\n",
    "    start_time = time.time()\n",
    "    num_steps = 0\n",
    "\n",
    "    while len(visited_nodes) < num_nodes:\n",
    "        neighbors = np.nonzero(adj_matrix[current_node])[0]\n",
    "        next_node = np.random.choice(neighbors, p=adj_matrix[current_node][neighbors])\n",
    "        visited_nodes.add(next_node)\n",
    "        current_node = next_node\n",
    "        num_steps += 1\n",
    "\n",
    "    end_time = time.time()\n",
    "    total_time = end_time - start_time\n",
    "\n",
    "    return total_time, num_steps\n",
    "\n",
    "\n",
    "def run_random_walks(adj_matrix, start_node, times_to_run, graph_type):\n",
    "    timestr = time.strftime(\"%Y%m%d-%H%M%S\")\n",
    "    filename= graph_type + \"_starting_node_\" + str(start_node) + \"_running_\" + str(times_to_run) + \"_times_at_\" + timestr +\".csv\"\n",
    "\n",
    "    with open(filename, 'w', newline='') as csvfile:\n",
    "        fieldnames = ['Graph Type','Graph Size','Start Node','Run Number', 'Steps', 'Time']  # Header row fieldnames\n",
    "        writer = csv.DictWriter(csvfile, fieldnames=fieldnames)\n",
    "        writer.writeheader()  # Write the header row\n",
    "        results = []\n",
    "        steps_per_run=[]\n",
    "        totalSteps = 0\n",
    "\n",
    "        for i in range(times_to_run):\n",
    "            run_time, steps_count = random_walk_time(adj_matrix, start_node)\n",
    "            results.append((run_time, steps_count))\n",
    "            totalSteps=totalSteps+steps_count\n",
    "            steps_per_run.append(steps_count)\n",
    "            print(\"run number: \" + str(i+1) +\" finished in: \"+str(run_time))\n",
    "            writer.writerow({'Graph Type': graph_type,'Graph Size': adj_matrix.shape[0],'Start Node':start_node,'Run Number': i+1, 'Steps': steps_count, 'Time': run_time})\n",
    "\n",
    "        min_steps = min(results)[1]\n",
    "        max_steps = max(results)[1]\n",
    "        avg_steps = totalSteps / times_to_run\n",
    "        print(\"max: \" + str(max_steps))\n",
    "        print(\"min: \" + str(min_steps))\n",
    "        print(\"avg: \" + str(avg_steps))\n",
    "        print(\"res: \" )\n",
    "        print(results)\n",
    "        steps_deviation = statistics.stdev(steps_per_run)\n",
    "        write_to_sum_file(graph_type,adj_matrix.shape[0],start_node,times_to_run,avg_steps,max_steps,min_steps, steps_deviation)\n",
    "\n",
    "    return\n",
    "\n",
    "\n",
    "def run_random_walks_with_random_starting_node(adj_matrix, times_to_run, graph_type):\n",
    "    timestr = time.strftime(\"%Y%m%d-%H%M%S\")\n",
    "    filename= graph_type + \"_starting_node_\" + \"random\" + \"_running_\" + str(times_to_run) + \"_times_at_\" + timestr +\".csv\"\n",
    "\n",
    "    with open(filename, 'w', newline='') as csvfile:\n",
    "        fieldnames = ['Graph Type','Graph Size','Start Node','Run Number', 'Steps', 'Time']  # Header row fieldnames\n",
    "        writer = csv.DictWriter(csvfile, fieldnames=fieldnames)\n",
    "        writer.writeheader()  # Write the header row\n",
    "        results = []\n",
    "        steps_per_run=[]\n",
    "        totalSteps = 0\n",
    "        start_node = 0\n",
    "\n",
    "\n",
    "\n",
    "        for i in range(times_to_run):\n",
    "            start_node= randrange(adj_matrix.shape[0])\n",
    "            run_time, steps_count = random_walk_time(adj_matrix, start_node)\n",
    "            results.append((run_time, steps_count))\n",
    "            totalSteps=totalSteps+steps_count\n",
    "            steps_per_run.append(steps_count)\n",
    "            print(\"run number: \" + str(i+1) +\" finished in: \"+str(run_time))\n",
    "            writer.writerow({'Graph Type': graph_type,'Graph Size': adj_matrix.shape[0],'Start Node':start_node,'Run Number': i+1, 'Steps': steps_count, 'Time': run_time})\n",
    "\n",
    "        min_steps = min(results)[1]\n",
    "        max_steps = max(results)[1]\n",
    "        avg_steps = totalSteps / times_to_run\n",
    "        print(\"max: \" + str(max_steps))\n",
    "        print(\"min: \" + str(min_steps))\n",
    "        print(\"avg: \" + str(avg_steps))\n",
    "        print(\"res: \" )\n",
    "        print(results)\n",
    "        steps_deviation = statistics.stdev(steps_per_run)\n",
    "        write_to_sum_file(graph_type,adj_matrix.shape[0],start_node,times_to_run,avg_steps,max_steps,min_steps, steps_deviation)\n",
    "\n",
    "    return\n",
    "\n",
    "\n",
    "def limited_random_walk_with_random_starting_node(adj_matrix, numOfSteps):\n",
    "    \"\"\"\n",
    "    Function that implements a random walk on a normalized adjacency matrix and returns the total running time and number of steps taken\n",
    "    :param adj_matrix: Normalized adjacency matrix of the graph\n",
    "    :param start_node: Starting node for the random walk\n",
    "    :return: Total running time and number of steps taken during the random walk\n",
    "    \"\"\"\n",
    "    num_nodes = adj_matrix.shape[0]\n",
    "    start_node = random.randint(0, num_nodes-1)\n",
    "\n",
    "    current_node = start_node\n",
    "    visited_nodes = set([current_node])\n",
    "\n",
    "    start_time = time.time()\n",
    "    num_steps = 0\n",
    "\n",
    "    # print(\"Start node: \" + str(start_node))\n",
    "\n",
    "    for i in range (numOfSteps):\n",
    "        neighbors = np.nonzero(adj_matrix[current_node])[0]\n",
    "        next_node = np.random.choice(neighbors, p=adj_matrix[current_node][neighbors])\n",
    "        visited_nodes.add(next_node)\n",
    "        current_node = next_node\n",
    "\n",
    "\n",
    "    end_time = time.time()\n",
    "    total_time = end_time - start_time\n",
    "    # print(\"Steps made: \" + str(numOfSteps))\n",
    "    # print(\"Running time: \" + str(total_time))\n",
    "    # print(\"Last node visited: \" + str(current_node))\n",
    "\n",
    "    return current_node\n",
    "\n",
    "\n",
    "def run_multiple_limited_random_walk_stac_vector(adj_matrix, numOfRuns, numOfSteps):\n",
    "    results = np.full((adj_matrix.shape[0]), 0)\n",
    "    for i in range (numOfRuns):\n",
    "        last_node = limited_random_walk_with_random_starting_node(adj_matrix, numOfSteps)\n",
    "        results[last_node] = results[last_node]+1\n",
    "    results = np.divide(results, numOfRuns)\n",
    "    return results"
   ]
  },
  {
   "cell_type": "code",
   "execution_count": 11,
   "metadata": {},
   "outputs": [],
   "source": [
    "# Functions for Question 2\n",
    "def page_rank_algo(adj_matrix, numOfSteps, changeFromResults, resultsToCompare):\n",
    "    numOfRuns = 0\n",
    "    newResultsNormalized = np.full((adj_matrix.shape[0]), 0)\n",
    "    countOfLastNodes = np.full((adj_matrix.shape[0]), 0)\n",
    "    reachedChangeFromResults=False\n",
    "    while not reachedChangeFromResults:\n",
    "        currentLastNode = limited_random_walk_with_random_starting_node(adj_matrix, numOfSteps)\n",
    "        countOfLastNodes[currentLastNode] = countOfLastNodes[currentLastNode] + 1\n",
    "        numOfRuns += 1\n",
    "        newResultsNormalized = np.divide(countOfLastNodes, numOfRuns)\n",
    "        reachedChangeFromResults = compareVectors(resultsToCompare, newResultsNormalized, changeFromResults)\n",
    "\n",
    "    return numOfRuns\n",
    "\n",
    "\n",
    "def compareVectors(resultsToCompare, newResultsNormalized, changeFromResults):\n",
    "    dist = np.linalg.norm(resultsToCompare - newResultsNormalized)\n",
    "    return dist <= changeFromResults"
   ]
  },
  {
   "cell_type": "code",
   "execution_count": 12,
   "metadata": {},
   "outputs": [],
   "source": [
    "# Functions for Question 3\n",
    "def power_iteration(A, change, b_k):\n",
    "    condition =  False\n",
    "    step = 0\n",
    "\n",
    "    while not condition:\n",
    "        step += 1\n",
    "        print('STEP %d' %(step))\n",
    "        # Multiplying A and b_k\n",
    "        Ab_k1 = np.matmul(A,b_k)\n",
    "        print('Ab_k1: ', Ab_k1)\n",
    "        # Magnitude of Ab_k1\n",
    "        Ab_k1_mag = math.sqrt(sum(pow(element, 2) for element in Ab_k1))\n",
    "        print('Ab_k1_mag: ', Ab_k1_mag)\n",
    "        # Finding Eigen Vector  \n",
    "        Ab_k2 = Ab_k1/Ab_k1_mag\n",
    "        print('Eigen Vector: ', Ab_k2)\n",
    "        # Prints Eigen value and step\n",
    "        print('----------')\n",
    "        \n",
    "        # Comparing vectors with the given change\n",
    "        condition = compareVectors(Ab_k1, Ab_k2, change)\n",
    "\n",
    "        # Updating b_k\n",
    "        b_k = Ab_k2\n",
    "        \n",
    "    return Ab_k2\n",
    "\n",
    "\n",
    "def power_iteration_test(A, x, tol, max_iter):\n",
    "  \n",
    "    # Choose the initial vector x\n",
    "    \n",
    "    # Define the variable lam_prev to store the\n",
    "    # previous approximation for the largest eigenvalue\n",
    "    lam_prev = 0\n",
    "    \n",
    "    # Iteratively improve the approximations\n",
    "    # for the largest eigenvalue and eigenvector\n",
    "    # using the power method\n",
    "    for i in range(max_iter):\n",
    "        # Compute the updated approximation for the eigenvector\n",
    "        x = A @ x / np.linalg.norm(A @ x)\n",
    "    \n",
    "        # Compute the updated approximation for the largest eigenvalue\n",
    "        lam = (x.T @ A @ x) / (x.T @ x)\n",
    "    \n",
    "        # Check if the approximations have converged\n",
    "        if np.abs(lam - lam_prev) < tol:\n",
    "            break\n",
    "    \n",
    "        # Store the current approximation for the largest eigenvalue\n",
    "        lam_prev = lam\n",
    "    \n",
    "    # Print the approximations for the\n",
    "    # largest eigenvalue and eigenvector\n",
    "    print(float(lam))\n",
    "    print(x)\n"
   ]
  },
  {
   "cell_type": "code",
   "execution_count": null,
   "metadata": {},
   "outputs": [],
   "source": [
    "### QUESTION 2 ###\n",
    "\n",
    "### Question 2.1 ### \n",
    "# find the stationary vector of the narmalized graphs\n",
    "\n",
    "clique_stationary_vector = run_multiple_limited_random_walk_stac_vector(normalize_Clique, 5000, 1)\n",
    "candy_stationary_vector = run_multiple_limited_random_walk_stac_vector(normalize_Candy, 5000, 2000)\n",
    "ring_stationary_vector = run_multiple_limited_random_walk_stac_vector(normalize_Ring, 5000, 2000)\n",
    "twoCliques_stationary_vector = run_multiple_limited_random_walk_stac_vector(normalize_TwoCliques, 5000, 2000)"
   ]
  },
  {
   "cell_type": "code",
   "execution_count": null,
   "metadata": {},
   "outputs": [],
   "source": [
    "### Question 2.2 ###\n",
    "error_rate = [0.25, 0.125, 0.0625, 0.03125, 0.015625]\n",
    "num_of_steps = [4, 8, 16, 32, 64]\n",
    "print(\"### Q2 ###\")\n",
    "\n",
    "#TODO: run on the 2^14 graph\n",
    "#TODO: start runs from specific node [clique - (random, 0), candy - (random, from clique), ring - (random, 0), twoCliques - (random, from clique)]\n",
    "#TODO: avg the results into a file (run 10 times for each option)"
   ]
  },
  {
   "cell_type": "code",
   "execution_count": null,
   "metadata": {},
   "outputs": [],
   "source": [
    "#Q2 - Two Cliques\n",
    "curr_graph = normalize_TwoCliques\n",
    "print(\"Graph: Two Cliques\")\n",
    "print(\"=====================================\")\n",
    "for j in range(len(num_of_steps)):\n",
    "    print(\"## Number of steps: \" + str(num_of_steps[j]))\n",
    "    for i in range(len(error_rate)):\n",
    "        print(\"---- Error rate:  \" + str(error_rate[i]))\n",
    "        num_of_runs = page_rank_algo(curr_graph, num_of_steps[j], error_rate[i], clique_stationary_vector)\n",
    "        print(\"     num of runs: \" + str(num_of_runs))\n",
    "    print(\"=====================================\")"
   ]
  },
  {
   "cell_type": "code",
   "execution_count": null,
   "metadata": {},
   "outputs": [],
   "source": [
    "#Q2 - Clique\n",
    "curr_graph = normalize_Clique\n",
    "print(\"Graph: Clique\")\n",
    "print(\"=====================================\")\n",
    "for j in range(len(num_of_steps)):\n",
    "    print(\"## Number of steps: \" + str(num_of_steps[j]))\n",
    "    for i in range(len(error_rate)):\n",
    "        print(\"---- Error rate:  \" + str(error_rate[i]))\n",
    "        num_of_runs = page_rank_algo(curr_graph, num_of_steps[j], error_rate[i], clique_stationary_vector)\n",
    "        print(\"     num of runs: \" + str(num_of_runs))\n",
    "    print(\"=====================================\")"
   ]
  },
  {
   "cell_type": "code",
   "execution_count": null,
   "metadata": {},
   "outputs": [],
   "source": [
    "print(\"### Q2 ###\")\n",
    "error_rate = [0.25, 0.125, 0.0625, 0.03125, 0.015625]\n",
    "curr_graph = normalize_Candy\n",
    "print(\"Graph: Candy\")\n",
    "print(\"=====================================\")\n",
    "for j in range(len(num_of_steps)):\n",
    "    print(\"## Number of steps: \" + str(num_of_steps[j]))\n",
    "    for i in range(len(error_rate)):\n",
    "        print(\"---- Error rate:  \" + str(error_rate[i]))\n",
    "        num_of_runs = page_rank_algo(curr_graph, num_of_steps[j], error_rate[i], clique_stationary_vector)\n",
    "        print(\"     num of runs: \" + str(num_of_runs))\n",
    "    print(\"=====================================\")"
   ]
  },
  {
   "cell_type": "code",
   "execution_count": null,
   "metadata": {},
   "outputs": [],
   "source": [
    "#Q2 - Ring\n",
    "curr_graph = normalize_Ring\n",
    "print(\"Graph: Ring\")\n",
    "print(\"=====================================\")\n",
    "for j in range(len(num_of_steps)):\n",
    "    print(\"## Number of steps: \" + str(num_of_steps[j]))\n",
    "    for i in range(len(error_rate)):\n",
    "        print(\"---- Error rate:  \" + str(error_rate[i]))\n",
    "        num_of_runs = page_rank_algo(curr_graph, num_of_steps[j], error_rate[i], clique_stationary_vector)\n",
    "        print(\"     num of runs: \" + str(num_of_runs))\n",
    "    print(\"=====================================\")"
   ]
  },
  {
   "cell_type": "code",
   "execution_count": null,
   "metadata": {
    "collapsed": false
   },
   "outputs": [],
   "source": [
    "### QUESTION 1 ###"
   ]
  },
  {
   "cell_type": "code",
   "execution_count": null,
   "metadata": {
    "collapsed": false
   },
   "outputs": [],
   "source": [
    "#expermint was done, results in final folder\n",
    "#creating the graphs\n",
    "# clique = createAClique(16384)\n",
    "# candy = createACandy(1024)\n",
    "# ring = createARing(2048)\n",
    "# twoCliques = createTwoCliques(1024)"
   ]
  },
  {
   "cell_type": "code",
   "execution_count": null,
   "metadata": {
    "collapsed": false
   },
   "outputs": [],
   "source": [
    "#validating graph size\n",
    "#print(len(clique))\n",
    "# print(len(candy))\n",
    "# print(len(ring))\n",
    "# print(len(twoCliques))"
   ]
  },
  {
   "cell_type": "code",
   "execution_count": null,
   "metadata": {
    "collapsed": false
   },
   "outputs": [],
   "source": [
    "#expermint was done, results in final folder\n",
    "#normalizing the graphs\n",
    "# normalized_clique = normalize_graph(clique)\n",
    "# normalized_candy = normalize_graph(candy)\n",
    "# normalized_ring = normalize_graph(ring)\n",
    "# normalized_two_clicques = normalize_graph(twoCliques)"
   ]
  },
  {
   "cell_type": "code",
   "execution_count": null,
   "metadata": {
    "collapsed": false,
    "pycharm": {
     "is_executing": true
    }
   },
   "outputs": [],
   "source": [
    "#expermint was done, results in final folder\n",
    "#testing covering time on clique\n",
    "# run_random_walks(normalized_clique,0,10, \"clique\")\n",
    "# run_random_walks_with_random_starting_node(normalized_clique,10,\"clique\")\n",
    "#\n",
    "# run_random_walks(normalized_candy,0,10, \"candy\")\n",
    "# run_random_walks(normalized_candy,1023,10, \"candy\")\n",
    "# run_random_walks(normalized_candy,511,10, \"candy\")\n",
    "# run_random_walks_with_random_starting_node(normalized_candy,10,\"candy\")"
   ]
  },
  {
   "cell_type": "code",
   "execution_count": null,
   "metadata": {
    "collapsed": false,
    "pycharm": {
     "is_executing": true
    }
   },
   "outputs": [],
   "source": [
    "#expermint was done, results in final folder\n",
    "# run_random_walks(normalized_ring,0,10, \"ring\")\n",
    "# run_random_walks_with_random_starting_node(normalized_ring,10,\"ring\")\n",
    "#\n",
    "# run_random_walks(normalized_two_clicques,255,10, \"two_cliques\")\n",
    "# run_random_walks(normalized_two_clicques,511,10, \"two_cliques\")\n",
    "# run_random_walks(normalized_two_clicques,1023,10, \"two_cliques\")\n",
    "# run_random_walks_with_random_starting_node(normalized_two_clicques,10,\"two_cliques\")"
   ]
  },
  {
   "cell_type": "code",
   "execution_count": null,
   "metadata": {
    "collapsed": false
   },
   "outputs": [],
   "source": [
    "#testing session number 2"
   ]
  },
  {
   "cell_type": "code",
   "execution_count": null,
   "metadata": {
    "collapsed": false
   },
   "outputs": [],
   "source": [
    "#creating the graphs\n",
    "clique = createAClique(16384)\n",
    "ring = createARing(16384)\n",
    "candy = createACandy(16384)\n",
    "twoCliques = createTwoCliques(16384)\n",
    "\n",
    "#normalizing the graphs\n",
    "normalized_clique = normalize_graph(clique)\n",
    "normalized_ring = normalize_graph(ring)\n",
    "normalized_candy = normalize_graph(candy)\n",
    "normalized_two_clicques = normalize_graph(twoCliques)"
   ]
  },
  {
   "cell_type": "code",
   "execution_count": null,
   "metadata": {},
   "outputs": [],
   "source": [
    "# Q2\n",
    "error_rate = [0.25, 0.125, 0.0625, 0.03125, 0.015625]"
   ]
  },
  {
   "cell_type": "code",
   "execution_count": null,
   "metadata": {},
   "outputs": [],
   "source": [
    "### Question 2.1 ### \n",
    "# find the stationary vector of the narmalized graphs\n",
    "\n",
    "clique_stationary_vector = run_multiple_limited_random_walk_stac_vector(normalize_Clique, 5000, 1)\n",
    "candy_stationary_vector = run_multiple_limited_random_walk_stac_vector(normalize_Candy, 5000, 2000)\n",
    "ring_stationary_vector = run_multiple_limited_random_walk_stac_vector(normalize_Ring, 5000, 2000)\n",
    "twoCliques_stationary_vector = run_multiple_limited_random_walk_stac_vector(normalize_TwoCliques, 5000, 2000)"
   ]
  },
  {
   "cell_type": "code",
   "execution_count": null,
   "metadata": {},
   "outputs": [],
   "source": [
    "### Question 2.2 ###\n",
    "error_rate = [0.25, 0.125, 0.0625, 0.03125, 0.015625]\n",
    "num_of_steps = [4, 8, 16, 32, 64]\n",
    "print(\"### Q2 ###\")\n",
    "\n",
    "#TODO: run on the 2^14 graph\n",
    "#TODO: start runs from specific node [clique - (random, 0), candy - (random, from clique), ring - (random, 0), twoCliques - (random, from clique)]\n",
    "#TODO: avg the results into a file (run 10 times for each option)"
   ]
  },
  {
   "cell_type": "code",
   "execution_count": 15,
   "metadata": {
    "collapsed": false,
    "pycharm": {
     "is_executing": true
    }
   },
   "outputs": [],
   "source": [
    "#expermint was done, results in final folder\n",
    "#testing covering time on clique and ring\n",
    "# run_random_walks(normalized_clique,0,10, \"clique\")\n",
    "# run_random_walks_with_random_starting_node(normalized_clique,10,\"clique\")\n",
    "#\n",
    "# run_random_walks(normalized_ring,0,10, \"ring\")\n",
    "# run_random_walks_with_random_starting_node(normalized_ring,10,\"ring\")"
   ]
  },
  {
   "cell_type": "code",
   "execution_count": null,
   "metadata": {
    "collapsed": false,
    "pycharm": {
     "is_executing": true
    }
   },
   "outputs": [],
   "source": [
    "#testing covering time on candy and two cliques\n",
    "\n",
    "run_random_walks(normalized_candy,0,10, \"candy\")\n",
    "run_random_walks(normalized_candy,511,10, \"candy\")\n",
    "run_random_walks(normalized_candy,255,10, \"candy\")\n",
    "run_random_walks_with_random_starting_node(normalized_candy,10,\"candy\")\n",
    "\n",
    "run_random_walks(normalized_two_clicques,511,10, \"two_cliques\")\n",
    "run_random_walks(normalized_two_clicques,1023,10, \"two_cliques\")\n",
    "run_random_walks(normalized_two_clicques,2047,10, \"two_cliques\")\n",
    "run_random_walks_with_random_starting_node(normalized_two_clicques,10,\"two_cliques\")"
   ]
  },
  {
   "cell_type": "code",
   "execution_count": 23,
   "metadata": {},
   "outputs": [],
   "source": [
    "#ring 16384 \n",
    "ring = createARing(16384)\n",
    "normalized_ring = normalize_graph(ring)\n"
   ]
  },
  {
   "cell_type": "code",
   "execution_count": 24,
   "metadata": {},
   "outputs": [],
   "source": [
    "run_random_walks(normalized_ring,0,10, \"ring\")\n",
    "run_random_walks_with_random_starting_node(normalized_ring,10, \"ring\")"
   ]
  },
  {
   "cell_type": "code",
   "execution_count": null,
   "metadata": {
    "collapsed": false,
    "pycharm": {
     "is_executing": true
    }
   },
   "outputs": [],
   "source": [
    "#creating the smaller graphs\n",
    "small_clique = createAClique(4096)\n",
    "small_candy = createACandy(4096)\n",
    "small_ring = createARing(4096)\n",
    "small_twoCliques = createTwoCliques(4096)"
   ]
  },
  {
   "cell_type": "code",
   "execution_count": null,
   "metadata": {
    "collapsed": false
   },
   "outputs": [],
   "source": [
    "#normalizing the smaller graphs\n",
    "normalized_small_clique = normalize_graph(small_clique)\n",
    "normalized_small_candy = normalize_graph(small_candy)\n",
    "normalized_small_ring = normalize_graph(small_ring)\n",
    "normalized_small_two_cliques = normalize_graph(small_twoCliques)"
   ]
  },
  {
   "cell_type": "code",
   "execution_count": null,
   "metadata": {
    "collapsed": false
   },
   "outputs": [],
   "source": [
    "#testing covering time on small clique\n",
    "#we don't care where we start because all the nodes have the same amount of neighbors\n",
    "run_random_walks(normalized_small_clique,0,10)"
   ]
  },
  {
   "cell_type": "code",
   "execution_count": null,
   "metadata": {
    "collapsed": false
   },
   "outputs": [],
   "source": [
    "#testing covering time on small candy"
   ]
  },
  {
   "cell_type": "code",
   "execution_count": null,
   "metadata": {
    "collapsed": false
   },
   "outputs": [],
   "source": [
    "#running 10 times with random node each time\n",
    "run_random_walks_with_random_starting_node(normalized_small_candy,10)"
   ]
  },
  {
   "cell_type": "code",
   "execution_count": null,
   "metadata": {
    "collapsed": false
   },
   "outputs": [],
   "source": [
    "smaller_candy = createACandy(256)\n",
    "normalized_smaller_candy = normalize_graph(smaller_candy)\n",
    "print(\"stick\")\n",
    "run_random_walks(normalized_smaller_candy,0,10)\n",
    "print(\"clique\")\n",
    "run_random_walks(normalized_smaller_candy,255,10)\n"
   ]
  },
  {
   "cell_type": "code",
   "execution_count": null,
   "metadata": {
    "collapsed": false
   },
   "outputs": [],
   "source": [
    "#running 10 times with node from the stick\n",
    "run_random_walks(normalized_small_candy,0,10)"
   ]
  },
  {
   "cell_type": "code",
   "execution_count": null,
   "metadata": {
    "collapsed": false
   },
   "outputs": [],
   "source": [
    "#running 10 times with node from the clique\n",
    "run_random_walks(normalized_small_candy,4095,10)"
   ]
  },
  {
   "cell_type": "code",
   "execution_count": null,
   "metadata": {
    "collapsed": false
   },
   "outputs": [],
   "source": [
    "#end of candy testing"
   ]
  },
  {
   "cell_type": "code",
   "execution_count": null,
   "metadata": {
    "collapsed": false
   },
   "outputs": [],
   "source": [
    "#testing covering time on small ring\n",
    "#we don't care where we start because all the nodes have the same amount of neighbors\n",
    "run_random_walks(normalized_small_ring,0,10)"
   ]
  },
  {
   "cell_type": "code",
   "execution_count": null,
   "metadata": {
    "collapsed": false
   },
   "outputs": [],
   "source": [
    "#testing covering time on small two cliques"
   ]
  },
  {
   "cell_type": "code",
   "execution_count": null,
   "metadata": {
    "collapsed": false
   },
   "outputs": [],
   "source": [
    "#running 10 times with random node each time\n",
    "run_random_walks_with_random_starting_node(normalized_small_two_cliques,10)"
   ]
  },
  {
   "cell_type": "code",
   "execution_count": null,
   "metadata": {
    "collapsed": false
   },
   "outputs": [],
   "source": [
    "#running 10 times with node from the stick each time\n",
    "run_random_walks(normalized_small_two_cliques,int((4096/4)-1),10)"
   ]
  },
  {
   "cell_type": "code",
   "execution_count": null,
   "metadata": {
    "collapsed": false
   },
   "outputs": [],
   "source": [
    "#running 10 times with node from the clique each time\n",
    "run_random_walks(normalized_small_two_cliques,40963,10)"
   ]
  },
  {
   "cell_type": "code",
   "execution_count": null,
   "metadata": {
    "collapsed": false
   },
   "outputs": [
    {
     "data": {
      "image/png": "[encoded data removed]",
      "text/plain": [
       "<Figure size 640x480 with 1 Axes>"
      ]
     },
     "metadata": {},
     "output_type": "display_data"
    }
   ],
   "source": [
    "candyToPrint = createACandy(16)\n",
    "plot_graph(candyToPrint)"
   ]
  },
  {
   "cell_type": "code",
   "execution_count": null,
   "metadata": {
    "collapsed": false
   },
   "outputs": [],
   "source": [
    "### QUESTION 2 ###"
   ]
  },
  {
   "cell_type": "code",
   "execution_count": null,
   "metadata": {},
   "outputs": [],
   "source": [
    "### Question 2.1 ### \n",
    "# find the stationary vector of the narmalized graphs\n",
    "\n",
    "clique_stationary_vector = run_multiple_limited_random_walk_stac_vector(normalize_Clique, 5000, 1)\n",
    "candy_stationary_vector = run_multiple_limited_random_walk_stac_vector(normalize_Candy, 5000, 2000)\n",
    "ring_stationary_vector = run_multiple_limited_random_walk_stac_vector(normalize_Ring, 5000, 2000)\n",
    "twoCliques_stationary_vector = run_multiple_limited_random_walk_stac_vector(normalize_TwoCliques, 5000, 2000)"
   ]
  },
  {
   "cell_type": "code",
   "execution_count": null,
   "metadata": {},
   "outputs": [],
   "source": [
    "### Question 2.2 ###\n",
    "error_rate = [0.25, 0.125, 0.0625, 0.03125, 0.015625]\n",
    "num_of_steps = [4, 8, 16, 32, 64]\n",
    "print(\"### Q2 ###\")\n",
    "\n",
    "#TODO: run on the 2^14 graph\n",
    "#TODO: start runs from specific node [clique - (random, 0), candy - (random, from clique), ring - (random, 0), twoCliques - (random, from clique)]\n",
    "#TODO: avg the results into a file (run 10 times for each option)"
   ]
  },
  {
   "cell_type": "code",
   "execution_count": null,
   "metadata": {},
   "outputs": [],
   "source": [
    "#Q2 - Clique\n",
    "curr_graph = normalize_Clique\n",
    "print(\"Graph: Clique\")\n",
    "print(\"=====================================\")\n",
    "for j in range(len(num_of_steps)):\n",
    "    print(\"## Number of steps: \" + str(num_of_steps[j]))\n",
    "    for i in range(len(error_rate)):\n",
    "        print(\"---- Error rate:  \" + str(error_rate[i]))\n",
    "        num_of_runs = page_rank_algo(curr_graph, num_of_steps[j], error_rate[i], clique_stationary_vector)\n",
    "        print(\"     num of runs: \" + str(num_of_runs))\n",
    "    print(\"=====================================\")\n"
   ]
  },
  {
   "cell_type": "code",
   "execution_count": null,
   "metadata": {},
   "outputs": [],
   "source": [
    "#Q2 - Candy\n",
    "curr_graph = normalize_Candy\n",
    "print(\"Graph: Candy\")\n",
    "print(\"=====================================\")\n",
    "for j in range(len(num_of_steps)):\n",
    "    print(\"## Number of steps: \" + str(num_of_steps[j]))\n",
    "    for i in range(len(error_rate)):\n",
    "        print(\"---- Error rate:  \" + str(error_rate[i]))\n",
    "        num_of_runs = page_rank_algo(curr_graph, num_of_steps[j], error_rate[i], clique_stationary_vector)\n",
    "        print(\"     num of runs: \" + str(num_of_runs))\n",
    "    print(\"=====================================\")"
   ]
  },
  {
   "cell_type": "code",
   "execution_count": null,
   "metadata": {},
   "outputs": [],
   "source": [
    "#Q2 - Ring\n",
    "curr_graph = normalize_Ring\n",
    "print(\"Graph: Ring\")\n",
    "print(\"=====================================\")\n",
    "for j in range(len(num_of_steps)):\n",
    "    print(\"## Number of steps: \" + str(num_of_steps[j]))\n",
    "    for i in range(len(error_rate)):\n",
    "        print(\"---- Error rate:  \" + str(error_rate[i]))\n",
    "        num_of_runs = page_rank_algo(curr_graph, num_of_steps[j], error_rate[i], clique_stationary_vector)\n",
    "        print(\"     num of runs: \" + str(num_of_runs))\n",
    "    print(\"=====================================\")"
   ]
  },
  {
   "cell_type": "code",
   "execution_count": null,
   "metadata": {},
   "outputs": [],
   "source": [
    "#Q2 - Two Cliques\n",
    "curr_graph = normalize_TwoCliques\n",
    "print(\"Graph: Two Cliques\")\n",
    "print(\"=====================================\")\n",
    "for j in range(len(num_of_steps)):\n",
    "    print(\"## Number of steps: \" + str(num_of_steps[j]))\n",
    "    for i in range(len(error_rate)):\n",
    "        print(\"---- Error rate:  \" + str(error_rate[i]))\n",
    "        num_of_runs = page_rank_algo(curr_graph, num_of_steps[j], error_rate[i], clique_stationary_vector)\n",
    "        print(\"     num of runs: \" + str(num_of_runs))\n",
    "    print(\"=====================================\")"
   ]
  }
 ],
 "metadata": {
  "kernelspec": {
   "display_name": "Python 3",
   "language": "python",
   "name": "python3"
  },
  "language_info": {
   "codemirror_mode": {
    "name": "ipython",
    "version": 3
   },
   "file_extension": ".py",
   "mimetype": "text/x-python",
   "name": "python",
   "nbconvert_exporter": "python",
   "pygments_lexer": "ipython3",
   "version": "3.10.9"
  },
  "vscode": {
   "interpreter": {
    "hash": "58fa4432169d82249c35c7d35aa9431a700f2a8bf4d05d29d45450fddb2c64cb"
   }
  }
 },
 "nbformat": 4,
 "nbformat_minor": 0
}
